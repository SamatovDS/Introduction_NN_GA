{
  "nbformat": 4,
  "nbformat_minor": 0,
  "metadata": {
    "colab": {
      "provenance": []
    },
    "kernelspec": {
      "name": "python3",
      "display_name": "Python 3"
    }
  },
  "cells": [
    {
      "cell_type": "markdown",
      "metadata": {
        "id": "JzAlcaPHrG7H"
      },
      "source": [
        "Задача:\n",
        "С помощью генетического алгоритма подобрать коэффициенты a и b, удовлетворяющие следующему выражению:\n",
        "2*a^2+b=57\n",
        "\n"
      ]
    },
    {
      "cell_type": "code",
      "metadata": {
        "id": "-iliIhcliDII"
      },
      "source": [
        "import random"
      ],
      "execution_count": null,
      "outputs": []
    },
    {
      "cell_type": "code",
      "source": [
        "import matplotlib.pyplot as plt"
      ],
      "metadata": {
        "id": "VLu602uU4_GA"
      },
      "execution_count": null,
      "outputs": []
    },
    {
      "cell_type": "code",
      "metadata": {
        "id": "3or1zJdd1Na7"
      },
      "source": [
        "#Вероятность скрещивания\n",
        "Pc = 0.6"
      ],
      "execution_count": null,
      "outputs": []
    },
    {
      "cell_type": "code",
      "metadata": {
        "colab": {
          "base_uri": "https://localhost:8080/"
        },
        "id": "kAKG-72oh2GO",
        "outputId": "90719c98-9657-4ef9-c2f6-73b450a2b511"
      },
      "source": [
        "#Задание начальной популяции\n",
        "initial_population = []\n",
        "\n",
        "for i in range(6):\n",
        "  a = random.randint(0, 10)\n",
        "  b = random.randint(0, 10)\n",
        "  initial_population.append([a, b])\n",
        "\n",
        "# initial_population = [[random.randint(0, 10), random.randint(0, 10)] for _ in range(6)]\n",
        "\n",
        "print(initial_population)"
      ],
      "execution_count": null,
      "outputs": [
        {
          "output_type": "stream",
          "name": "stdout",
          "text": [
            "[[8, 2], [0, 0], [9, 9], [9, 5], [9, 8], [6, 3]]\n"
          ]
        }
      ]
    },
    {
      "cell_type": "code",
      "metadata": {
        "id": "mlcW_QZnjlfg"
      },
      "source": [
        "# Function to compute fitness\n",
        "def fit(idividual):\n",
        "  return 1 / abs(2*idividual[0]**2 + idividual[1] - 57)"
      ],
      "execution_count": null,
      "outputs": []
    },
    {
      "cell_type": "code",
      "metadata": {
        "colab": {
          "base_uri": "https://localhost:8080/"
        },
        "id": "RNZFVwsckary",
        "outputId": "48baab25-adbf-4864-e369-2abdabedb582"
      },
      "source": [
        "population_fitness = []\n",
        "for i in range(len(initial_population)):\n",
        "  fitness = fit(initial_population[i])\n",
        "  population_fitness.append(fitness)\n",
        "  print('Приспособленность особи #', i, ' равна: ', fitness, sep='')"
      ],
      "execution_count": null,
      "outputs": [
        {
          "output_type": "stream",
          "name": "stdout",
          "text": [
            "Приспособленность особи #0 равна: 0.0136986301369863\n",
            "Приспособленность особи #1 равна: 0.017543859649122806\n",
            "Приспособленность особи #2 равна: 0.008771929824561403\n",
            "Приспособленность особи #3 равна: 0.00909090909090909\n",
            "Приспособленность особи #4 равна: 0.008849557522123894\n",
            "Приспособленность особи #5 равна: 0.05555555555555555\n"
          ]
        }
      ]
    },
    {
      "cell_type": "code",
      "metadata": {
        "colab": {
          "base_uri": "https://localhost:8080/"
        },
        "id": "DxZe-5WvnG87",
        "outputId": "bfd77e29-ff8c-4ba7-8aa7-d392ac16b424"
      },
      "source": [
        "#fitness prob\n",
        "fitness_prob = []\n",
        "for i in range(len(population_fitness)):\n",
        "  prob = population_fitness[i]/sum(population_fitness)\n",
        "  fitness_prob.append(prob)\n",
        "  print('Вероятность скрещивания особи #', i, ' равна: ', prob, sep='')"
      ],
      "execution_count": null,
      "outputs": [
        {
          "output_type": "stream",
          "name": "stdout",
          "text": [
            "Вероятность скрещивания особи #0 равна: 0.12068167405801916\n",
            "Вероятность скрещивания особи #1 равна: 0.15455723168834032\n",
            "Вероятность скрещивания особи #2 равна: 0.07727861584417016\n",
            "Вероятность скрещивания особи #3 равна: 0.08008874732941271\n",
            "Вероятность скрещивания особи #4 равна: 0.07796249740031326\n",
            "Вероятность скрещивания особи #5 равна: 0.48943123367974434\n"
          ]
        }
      ]
    },
    {
      "cell_type": "code",
      "metadata": {
        "id": "lVG8lIpMq3tL"
      },
      "source": [
        "def roulette_wheel_pop(population, probabilities, number):\n",
        "    chosen = []\n",
        "    for n in range(number):\n",
        "      r = random.random()\n",
        "      prob_circle = 0\n",
        "      for i in range(len(probabilities)):\n",
        "        prob_circle += probabilities[i]\n",
        "        if r <= prob_circle:\n",
        "          chosen.append(population[i])\n",
        "          break\n",
        "    return chosen"
      ],
      "execution_count": null,
      "outputs": []
    },
    {
      "cell_type": "code",
      "metadata": {
        "colab": {
          "base_uri": "https://localhost:8080/"
        },
        "id": "yKbzScNVraMO",
        "outputId": "cfb62e93-ae36-4bb5-d6fc-e25e7f7133dc"
      },
      "source": [
        "roulette_wheel_pop(initial_population, fitness_prob, 6)"
      ],
      "execution_count": null,
      "outputs": [
        {
          "output_type": "execute_result",
          "data": {
            "text/plain": [
              "[[6, 3], [0, 0], [6, 3], [9, 9], [9, 8], [6, 3]]"
            ]
          },
          "metadata": {},
          "execution_count": 7
        }
      ]
    },
    {
      "cell_type": "code",
      "metadata": {
        "id": "qTO9ZX-2v3Az"
      },
      "source": [
        "#convert to binary\n",
        "def to_binary(individual):\n",
        "  return \"{0:b}\".format(individual[0]).zfill(4) + \"{0:b}\".format(individual[1]).zfill(4)\n",
        "\n",
        "def to_decimal(individual):\n",
        "  return [int(individual[:4], 2), int(individual[4:], 2)]\n",
        "\n",
        "def pop_to_binary(population):\n",
        "  binary_pop = []\n",
        "  for individual in population:\n",
        "    binary_pop.append(to_binary(individual))\n",
        "  return binary_pop\n",
        "\n",
        "def pop_to_decimal(population):\n",
        "  decimal_pop = []\n",
        "  for individual in population:\n",
        "    decimal_pop.append(to_decimal(individual))\n",
        "  return decimal_pop"
      ],
      "execution_count": null,
      "outputs": []
    },
    {
      "cell_type": "code",
      "metadata": {
        "id": "qdoZqbA51Ake"
      },
      "source": [
        "def crossover(parent_1, parent_2):\n",
        "  return parent_1[:4] + parent_2[4:]\n",
        "\n",
        "def mutation(individual):\n",
        "  Pm = 1/len(individual)\n",
        "  result = ''\n",
        "  for digit in individual:\n",
        "    if (random.random() > Pm):\n",
        "      result += '1' if digit == '0' else '0'\n",
        "    else:\n",
        "      result += digit\n",
        "  return result\n",
        "\n",
        "def population_crossover(population):\n",
        "  new_pop = []\n",
        "  for i in range(0, len(population), 2):\n",
        "    if Pc > random.random():\n",
        "      new_pop.append(mutation(crossover(population[i], population[i+1])))\n",
        "      new_pop.append(mutation(crossover(population[i+1], population[i])))\n",
        "    else:\n",
        "      new_pop.append(population[i])\n",
        "      new_pop.append(population[i+1])\n",
        "\n",
        "  return new_pop"
      ],
      "execution_count": null,
      "outputs": []
    },
    {
      "cell_type": "code",
      "metadata": {
        "id": "otgkJ6Ri6Km7"
      },
      "source": [
        "def get_uniq_individual(population):\n",
        "  new_population = []\n",
        "  for elem in population:\n",
        "      if elem not in new_population:\n",
        "          new_population.append(elem)\n",
        "  return new_population"
      ],
      "execution_count": null,
      "outputs": []
    },
    {
      "cell_type": "code",
      "metadata": {
        "colab": {
          "base_uri": "https://localhost:8080/"
        },
        "id": "9LS7xzzo8q3p",
        "outputId": "d7d80bf8-4cc5-40a2-e538-c789a39ca9ad"
      },
      "source": [
        "result_population = initial_population\n",
        "print(result_population)\n",
        "population_fitness = []\n",
        "for i in range(len(result_population)):\n",
        "  fitness = fit(result_population[i])\n",
        "  population_fitness.append(fitness)\n",
        "  print('Приспособленность особи #', i, ' равна: ', fitness, sep='')\n",
        "\n",
        "#fitness prob\n",
        "fitness_prob = []\n",
        "for i in range(len(population_fitness)):\n",
        "  prob = population_fitness[i]/sum(population_fitness)\n",
        "  fitness_prob.append(prob)\n",
        "  print('Вероятность скрещивания особи #', i, ' равна: ', prob, sep='')\n",
        "\n",
        "for j in range(1000):\n",
        "  population_fitness = []\n",
        "  for i in range(len(result_population)):\n",
        "    fitness = fit(result_population[i])\n",
        "    population_fitness.append(fitness)\n",
        "\n",
        "  #fitness prob\n",
        "  fitness_prob = []\n",
        "  for i in range(len(population_fitness)):\n",
        "    prob = population_fitness[i]/sum(population_fitness)\n",
        "    fitness_prob.append(prob)\n",
        "\n",
        "  population_for_crossover = roulette_wheel_pop(result_population, fitness_prob, 6)\n",
        "\n",
        "  binary_population_for_crossover = pop_to_binary(population_for_crossover)\n",
        "\n",
        "  new_population = population_crossover(binary_population_for_crossover)\n",
        "\n",
        "  #to decimal\n",
        "  population_for_crossover = get_uniq_individual(population_for_crossover)\n",
        "  new_population = pop_to_decimal(new_population)\n",
        "\n",
        "\n",
        "  try:\n",
        "    population_for_crossover.sort(key=fit, reverse = True)\n",
        "    new_population.sort(key=fit, reverse = True)\n",
        "\n",
        "    result_population = population_for_crossover[:2] + new_population[2:]\n",
        "  except ZeroDivisionError:\n",
        "    print('Последняя популяция № ', j, ':', sep='')\n",
        "    print(new_population)\n",
        "    for i in range(len(new_population)):\n",
        "      print('Целевая функция \"2*a^2 + b - 57\" особи #', i, ' равна: ', abs(2*new_population[i][0]**2 + new_population[i][1] - 57) , sep='')\n",
        "    break"
      ],
      "execution_count": null,
      "outputs": [
        {
          "output_type": "stream",
          "name": "stdout",
          "text": [
            "[[8, 2], [0, 0], [9, 9], [9, 5], [9, 8], [6, 3]]\n",
            "Приспособленность особи #0 равна: 0.0136986301369863\n",
            "Приспособленность особи #1 равна: 0.017543859649122806\n",
            "Приспособленность особи #2 равна: 0.008771929824561403\n",
            "Приспособленность особи #3 равна: 0.00909090909090909\n",
            "Приспособленность особи #4 равна: 0.008849557522123894\n",
            "Приспособленность особи #5 равна: 0.05555555555555555\n",
            "Вероятность скрещивания особи #0 равна: 0.12068167405801916\n",
            "Вероятность скрещивания особи #1 равна: 0.15455723168834032\n",
            "Вероятность скрещивания особи #2 равна: 0.07727861584417016\n",
            "Вероятность скрещивания особи #3 равна: 0.08008874732941271\n",
            "Вероятность скрещивания особи #4 равна: 0.07796249740031326\n",
            "Вероятность скрещивания особи #5 равна: 0.48943123367974434\n",
            "Последняя популяция № 230:\n",
            "[[5, 7], [7, 6], [13, 3], [7, 12], [15, 14], [0, 4]]\n",
            "Целевая функция \"2*a^2 + b - 57\" особи #0 равна: 0\n",
            "Целевая функция \"2*a^2 + b - 57\" особи #1 равна: 47\n",
            "Целевая функция \"2*a^2 + b - 57\" особи #2 равна: 284\n",
            "Целевая функция \"2*a^2 + b - 57\" особи #3 равна: 53\n",
            "Целевая функция \"2*a^2 + b - 57\" особи #4 равна: 407\n",
            "Целевая функция \"2*a^2 + b - 57\" особи #5 равна: 53\n"
          ]
        }
      ]
    }
  ]
}