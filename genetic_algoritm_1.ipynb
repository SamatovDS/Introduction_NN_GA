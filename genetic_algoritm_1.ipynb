{
  "nbformat": 4,
  "nbformat_minor": 0,
  "metadata": {
    "colab": {
      "provenance": []
    },
    "kernelspec": {
      "name": "python3",
      "display_name": "Python 3"
    },
    "language_info": {
      "name": "python"
    }
  },
  "cells": [
    {
      "cell_type": "code",
      "source": [
        "!pip install deap\n",
        "!pip install matplotlib"
      ],
      "metadata": {
        "colab": {
          "base_uri": "https://localhost:8080/"
        },
        "id": "VNZXoqGRVSP3",
        "outputId": "2bc77d6f-bb96-47bf-9e92-e91cb247b1c8"
      },
      "execution_count": null,
      "outputs": [
        {
          "output_type": "stream",
          "name": "stdout",
          "text": [
            "Collecting deap\n",
            "  Downloading deap-1.3.1-cp37-cp37m-manylinux_2_5_x86_64.manylinux1_x86_64.manylinux_2_12_x86_64.manylinux2010_x86_64.whl (160 kB)\n",
            "\u001b[?25l\r\u001b[K     |██                              | 10 kB 17.1 MB/s eta 0:00:01\r\u001b[K     |████                            | 20 kB 19.8 MB/s eta 0:00:01\r\u001b[K     |██████                          | 30 kB 16.3 MB/s eta 0:00:01\r\u001b[K     |████████▏                       | 40 kB 11.6 MB/s eta 0:00:01\r\u001b[K     |██████████▏                     | 51 kB 5.4 MB/s eta 0:00:01\r\u001b[K     |████████████▏                   | 61 kB 6.4 MB/s eta 0:00:01\r\u001b[K     |██████████████▎                 | 71 kB 5.8 MB/s eta 0:00:01\r\u001b[K     |████████████████▎               | 81 kB 6.3 MB/s eta 0:00:01\r\u001b[K     |██████████████████▎             | 92 kB 6.9 MB/s eta 0:00:01\r\u001b[K     |████████████████████▍           | 102 kB 5.7 MB/s eta 0:00:01\r\u001b[K     |██████████████████████▍         | 112 kB 5.7 MB/s eta 0:00:01\r\u001b[K     |████████████████████████▍       | 122 kB 5.7 MB/s eta 0:00:01\r\u001b[K     |██████████████████████████▌     | 133 kB 5.7 MB/s eta 0:00:01\r\u001b[K     |████████████████████████████▌   | 143 kB 5.7 MB/s eta 0:00:01\r\u001b[K     |██████████████████████████████▌ | 153 kB 5.7 MB/s eta 0:00:01\r\u001b[K     |████████████████████████████████| 160 kB 5.7 MB/s \n",
            "\u001b[?25hRequirement already satisfied: numpy in /usr/local/lib/python3.7/dist-packages (from deap) (1.21.6)\n",
            "Installing collected packages: deap\n",
            "Successfully installed deap-1.3.1\n",
            "Requirement already satisfied: matplotlib in /usr/local/lib/python3.7/dist-packages (3.2.2)\n",
            "Requirement already satisfied: kiwisolver>=1.0.1 in /usr/local/lib/python3.7/dist-packages (from matplotlib) (1.4.2)\n",
            "Requirement already satisfied: numpy>=1.11 in /usr/local/lib/python3.7/dist-packages (from matplotlib) (1.21.6)\n",
            "Requirement already satisfied: cycler>=0.10 in /usr/local/lib/python3.7/dist-packages (from matplotlib) (0.11.0)\n",
            "Requirement already satisfied: python-dateutil>=2.1 in /usr/local/lib/python3.7/dist-packages (from matplotlib) (2.8.2)\n",
            "Requirement already satisfied: pyparsing!=2.0.4,!=2.1.2,!=2.1.6,>=2.0.1 in /usr/local/lib/python3.7/dist-packages (from matplotlib) (3.0.8)\n",
            "Requirement already satisfied: typing-extensions in /usr/local/lib/python3.7/dist-packages (from kiwisolver>=1.0.1->matplotlib) (4.1.1)\n",
            "Requirement already satisfied: six>=1.5 in /usr/local/lib/python3.7/dist-packages (from python-dateutil>=2.1->matplotlib) (1.15.0)\n"
          ]
        }
      ]
    },
    {
      "cell_type": "code",
      "source": [
        "from deap import base, algorithms\n",
        "from deap import creator\n",
        "from deap import tools\n",
        "\n",
        "\n",
        "import random\n",
        "import matplotlib.pyplot as plt\n",
        "import numpy as np"
      ],
      "metadata": {
        "id": "aBTMJEWaXy6M"
      },
      "execution_count": null,
      "outputs": []
    },
    {
      "cell_type": "code",
      "source": [
        "LOW, UP = -5, 5\n",
        "ETA = 20\n",
        "LENGTH_CHROM = 2 # длинна хромосомы (x, y)\n",
        "\n",
        "# константы гинетического алгоритма\n",
        "POPULATION_SIZE = 200     # количество индивидуумов в популяции\n",
        "P_CROSSOVER = 0.9         # вероятность скрещивания\n",
        "P_MUTATION = 0.2          # вероятность мутации индивидуума\n",
        "MAX_GENERATION = 50       # максимальное количество поколения\n",
        "HALL_OF_FAME_SIZE = 5 #\n",
        "\n",
        "hof = tools.HallOfFame(HALL_OF_FAME_SIZE)"
      ],
      "metadata": {
        "id": "EtA-aY-YZIte"
      },
      "execution_count": null,
      "outputs": []
    },
    {
      "cell_type": "code",
      "source": [
        "# объявление классов\n",
        "creator.create(\"FitnessMin\", base.Fitness, weights = (-1.0,))\n",
        "creator.create(\"Individual\", list, fitness = creator.FitnessMin)"
      ],
      "metadata": {
        "id": "VSnqklo6alLS"
      },
      "execution_count": null,
      "outputs": []
    },
    {
      "cell_type": "code",
      "source": [
        "def randomPoint(a, b):\n",
        "  return [random.uniform(a,b), random.uniform(a,b)]"
      ],
      "metadata": {
        "id": "wqT73PsYcVJU"
      },
      "execution_count": null,
      "outputs": []
    },
    {
      "cell_type": "code",
      "source": [
        "# регистрация функций\n",
        "toolbox = base.Toolbox()\n",
        "toolbox.register(\"randomPoint\", randomPoint, LOW , UP)\n",
        "toolbox.register(\"individualCreator\", tools.initIterate, creator.Individual, toolbox.randomPoint)\n",
        "toolbox.register(\"populationCreator\", tools.initRepeat, list, toolbox.individualCreator)"
      ],
      "metadata": {
        "id": "hQ3e9w48cpuv"
      },
      "execution_count": null,
      "outputs": []
    },
    {
      "cell_type": "code",
      "source": [
        "population = toolbox.populationCreator(n = POPULATION_SIZE)"
      ],
      "metadata": {
        "id": "jUavfabBdyj7"
      },
      "execution_count": null,
      "outputs": []
    },
    {
      "cell_type": "code",
      "source": [
        "def minFunction(individual):\n",
        "  x,y = individual\n",
        "  f = (x ** 2 + y - 11) ** 2 + (x + y ** 2 - 7) ** 2\n",
        "  return f,"
      ],
      "metadata": {
        "id": "LV89OsQ9eSCo"
      },
      "execution_count": null,
      "outputs": []
    },
    {
      "cell_type": "code",
      "source": [
        "# регистрация функций для работы с пакетом deap\n",
        "toolbox.register(\"evaluate\", minFunction)  # вычисляем приспособленность особи\n",
        "toolbox.register(\"select\", tools.selTournament, tournsize = 3) # турнирный отбор\n",
        "toolbox.register(\"mate\", tools.cxSimulatedBinaryBounded, low = LOW, up = UP, eta = ETA) # скрещивание\n",
        "toolbox.register(\"mutate\", tools.mutPolynomialBounded, low = LOW, up = UP, eta = ETA , indpb = 1.0/LENGTH_CHROM) # мутация\n",
        "\n",
        "stats = tools.Statistics(lambda ind: ind.fitness.values)\n",
        "stats.register(\"min\", np.min)\n",
        "stats.register(\"avg\", np.mean)"
      ],
      "metadata": {
        "id": "_T1sjl-bfcRi"
      },
      "execution_count": null,
      "outputs": []
    },
    {
      "cell_type": "code",
      "source": [
        "population, logbook = algorithms.eaSimple(population, toolbox,\n",
        "                                          cxpb = P_CROSSOVER,\n",
        "                                          mutpb = P_MUTATION,\n",
        "                                          ngen = MAX_GENERATION,\n",
        "                                          halloffame = hof,\n",
        "                                          stats = stats,\n",
        "                                          verbose = True)\n",
        "\n",
        "minFitnessValues, meanFitnessValues = logbook.select(\"min\", \"avg\")\n",
        "\n",
        "best = hof.items[0]\n",
        "print(best)"
      ],
      "metadata": {
        "colab": {
          "base_uri": "https://localhost:8080/"
        },
        "id": "_coxXCmmhD8F",
        "outputId": "844f932e-c8fb-48a5-a9bf-a672227650f4"
      },
      "execution_count": null,
      "outputs": [
        {
          "output_type": "stream",
          "name": "stdout",
          "text": [
            "gen\tnevals\tmin      \tavg    \n",
            "0  \t0     \t1.292e-07\t2.58503\n",
            "1  \t181   \t1.29199e-07\t3.3168 \n",
            "2  \t192   \t1.29199e-07\t1.31001\n",
            "3  \t181   \t1.29199e-07\t1.42714\n",
            "4  \t184   \t1.29199e-07\t4.74504\n",
            "5  \t173   \t1.29199e-07\t2.02239\n",
            "6  \t182   \t1.29199e-07\t2.18377\n",
            "7  \t189   \t1.29199e-07\t1.48638\n",
            "8  \t178   \t1.29199e-07\t1.65231\n",
            "9  \t180   \t1.29199e-07\t3.20083\n",
            "10 \t189   \t1.29199e-07\t2.32884\n",
            "11 \t190   \t1.01441e-07\t0.921593\n",
            "12 \t188   \t1.01441e-07\t3.03144 \n",
            "13 \t180   \t9.6486e-08 \t3.6475  \n",
            "14 \t185   \t9.6486e-08 \t2.8512  \n",
            "15 \t186   \t9.6486e-08 \t1.09256 \n",
            "16 \t182   \t9.32359e-08\t2.14507 \n",
            "17 \t190   \t9.16546e-08\t1.82608 \n",
            "18 \t186   \t9.03795e-08\t2.61704 \n",
            "19 \t178   \t9.03688e-08\t2.33231 \n",
            "20 \t185   \t9.03688e-08\t1.77574 \n",
            "21 \t188   \t9.03397e-08\t2.07768 \n",
            "22 \t182   \t9.03397e-08\t2.78369 \n",
            "23 \t191   \t9.0268e-08 \t1.66403 \n",
            "24 \t191   \t9.02372e-08\t2.40129 \n",
            "25 \t189   \t9.02286e-08\t2.18526 \n",
            "26 \t191   \t9.02272e-08\t2.04262 \n",
            "27 \t190   \t9.02272e-08\t2.87668 \n",
            "28 \t188   \t9.02229e-08\t1.7857  \n",
            "29 \t192   \t9.02229e-08\t1.57684 \n",
            "30 \t198   \t9.02228e-08\t1.30236 \n",
            "31 \t194   \t9.02226e-08\t3.53586 \n",
            "32 \t187   \t9.02221e-08\t1.94352 \n",
            "33 \t192   \t9.02221e-08\t2.79159 \n",
            "34 \t172   \t9.02221e-08\t1.76181 \n",
            "35 \t183   \t9.02221e-08\t3.66237 \n",
            "36 \t189   \t9.0222e-08 \t2.65022 \n",
            "37 \t186   \t9.0222e-08 \t3.14224 \n",
            "38 \t189   \t9.0222e-08 \t2.47949 \n",
            "39 \t188   \t9.0222e-08 \t2.00104 \n",
            "40 \t189   \t9.0222e-08 \t1.58334 \n",
            "41 \t181   \t9.0222e-08 \t2.9266  \n",
            "42 \t182   \t9.0222e-08 \t3.06879 \n",
            "43 \t188   \t9.0222e-08 \t1.67998 \n",
            "44 \t175   \t6.19206e-08\t1.9401  \n",
            "45 \t189   \t6.19025e-08\t1.54187 \n",
            "46 \t178   \t6.18312e-08\t3.02613 \n",
            "47 \t187   \t6.13341e-08\t2.56654 \n",
            "48 \t184   \t6.038e-08  \t3.05206 \n",
            "49 \t186   \t6.038e-08  \t3.40381 \n",
            "50 \t188   \t6.00594e-08\t1.50582 \n",
            "[3.5843964589729533, -1.848096144571661]\n"
          ]
        }
      ]
    }
  ]
}