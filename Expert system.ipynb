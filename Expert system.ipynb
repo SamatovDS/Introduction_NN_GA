{
  "nbformat": 4,
  "nbformat_minor": 0,
  "metadata": {
    "colab": {
      "provenance": []
    },
    "kernelspec": {
      "display_name": "Python 3",
      "name": "python3"
    }
  },
  "cells": [
    {
      "cell_type": "code",
      "metadata": {
        "colab": {
          "base_uri": "https://localhost:8080/"
        },
        "id": "dP_ZWCwd5ZzV",
        "outputId": "126a55c2-c93d-443e-dfc2-0061a1da1fcd"
      },
      "source": [
        "#Установка библиотеки Experta\n",
        "!pip install experta\n",
        "!pip install  frozendict==2.3.8"
      ],
      "execution_count": null,
      "outputs": [
        {
          "output_type": "stream",
          "name": "stdout",
          "text": [
            "Looking in indexes: https://pypi.org/simple, https://us-python.pkg.dev/colab-wheels/public/simple/\n",
            "Collecting experta\n",
            "  Downloading experta-1.9.4-py3-none-any.whl (35 kB)\n",
            "Collecting frozendict==1.2\n",
            "  Downloading frozendict-1.2.tar.gz (2.6 kB)\n",
            "  Preparing metadata (setup.py) ... \u001b[?25l\u001b[?25hdone\n",
            "Collecting schema==0.6.7\n",
            "  Downloading schema-0.6.7-py2.py3-none-any.whl (14 kB)\n",
            "Building wheels for collected packages: frozendict\n",
            "  Building wheel for frozendict (setup.py) ... \u001b[?25l\u001b[?25hdone\n",
            "  Created wheel for frozendict: filename=frozendict-1.2-py3-none-any.whl size=3166 sha256=d2ed5f3b1703461a8e507057b51392a41d6a30365a1af8e670503830e89b4f12\n",
            "  Stored in directory: /root/.cache/pip/wheels/ff/80/86/2d516a3c26397f67adaa2c848879d4a6359d90a60546ce4e03\n",
            "Successfully built frozendict\n",
            "Installing collected packages: schema, frozendict, experta\n",
            "  Attempting uninstall: frozendict\n",
            "    Found existing installation: frozendict 2.3.7\n",
            "    Uninstalling frozendict-2.3.7:\n",
            "      Successfully uninstalled frozendict-2.3.7\n",
            "\u001b[31mERROR: pip's dependency resolver does not currently take into account all the packages that are installed. This behaviour is the source of the following dependency conflicts.\n",
            "yfinance 0.2.18 requires frozendict>=2.3.4, but you have frozendict 1.2 which is incompatible.\u001b[0m\u001b[31m\n",
            "\u001b[0mSuccessfully installed experta-1.9.4 frozendict-1.2 schema-0.6.7\n"
          ]
        }
      ]
    },
    {
      "cell_type": "code",
      "source": [
        "!pip install  frozendict==2.3.8"
      ],
      "metadata": {
        "colab": {
          "base_uri": "https://localhost:8080/"
        },
        "id": "5pTFg2_WKVRu",
        "outputId": "62cdc938-0aed-4848-8aee-0c9d22ce1302"
      },
      "execution_count": null,
      "outputs": [
        {
          "output_type": "stream",
          "name": "stdout",
          "text": [
            "Looking in indexes: https://pypi.org/simple, https://us-python.pkg.dev/colab-wheels/public/simple/\n",
            "Collecting frozendict==2.3.8\n",
            "  Downloading frozendict-2.3.8-cp310-cp310-manylinux_2_17_x86_64.manylinux2014_x86_64.whl (115 kB)\n",
            "\u001b[2K     \u001b[90m━━━━━━━━━━━━━━━━━━━━━━━━━━━━━━━━━━━━━━━\u001b[0m \u001b[32m115.3/115.3 kB\u001b[0m \u001b[31m6.4 MB/s\u001b[0m eta \u001b[36m0:00:00\u001b[0m\n",
            "\u001b[?25hInstalling collected packages: frozendict\n",
            "  Attempting uninstall: frozendict\n",
            "    Found existing installation: frozendict 1.2\n",
            "    Uninstalling frozendict-1.2:\n",
            "      Successfully uninstalled frozendict-1.2\n",
            "\u001b[31mERROR: pip's dependency resolver does not currently take into account all the packages that are installed. This behaviour is the source of the following dependency conflicts.\n",
            "experta 1.9.4 requires frozendict==1.2, but you have frozendict 2.3.8 which is incompatible.\u001b[0m\u001b[31m\n",
            "\u001b[0mSuccessfully installed frozendict-2.3.8\n"
          ]
        }
      ]
    },
    {
      "cell_type": "code",
      "metadata": {
        "id": "d9GOmjL5Cxjh"
      },
      "source": [
        "Questions = {\n",
        "    1: \"Опишите ваш стиль одежды\\n\",\n",
        "    2: \"Вы когда-нибудь скачивали музыку с пиратских ресурсов?\\n\",\n",
        "    3: \"Саморазвитие как смысл жизни: как часто ты читаешь что-то полезное, а потом применяешь полученные знания на практике?\\n\",\n",
        "    4: \"Чем ты чаще всего пользуешься в своем телефоне?\\n\",\n",
        "}\n",
        "\n",
        "Answers = {\n",
        "    1: \"1 - Классический. Костюмы и приглушенные цвета\\n\"\n",
        "      \"2 - Мешковатые джинсы и футболки с русунком\\n\"\n",
        "      \"3 - Вязанные вещи\\n\"\n",
        "      \"4 - Яркое и необычное\\n\",\n",
        "    2: \"1 - Пару раз. Бывает жалко денег. Считаю это неправильным\\n\"\n",
        "      \"2 - Только так и скачиваю. Считаю это правильным\\n\"\n",
        "      \"3 - Никогда. Считаю это неправильным\\n\"\n",
        "      \"4 - Слушаю онлайн\\n\",\n",
        "    3: \"1 - Редко\\n\"\n",
        "      \"2 - Не так часто как хотелось бы\\n\"\n",
        "      \"3 - Постоянно\\n\"\n",
        "      \"4 - Чистаю, но применяю некоторые знание\\n\",\n",
        "    4: \"1 - Камера\\n\"\n",
        "      \"2 - Музыкальный плеер\\n\"\n",
        "      \"3 - Соц сети, почта\\n\"\n",
        "      \"4 - Для звонков\\n\",\n",
        "}"
      ],
      "execution_count": null,
      "outputs": []
    },
    {
      "cell_type": "code",
      "metadata": {
        "id": "xIhRt6ZH5vp2"
      },
      "source": [
        "# experta docs: https://readthedocs.org/projects/experta/downloads/pdf/stable/\n",
        "\n",
        "from experta import *\n",
        "\n",
        "class KnowledgeBase(KnowledgeEngine):\n",
        "    def __init__(self):\n",
        "        super().__init__()\n",
        "        #Меры доверия\n",
        "        self.MDMacOS = 0\n",
        "        self.MDWindows = 0\n",
        "        self.MDLinux = 0\n",
        "        #Меры недоверия\n",
        "        self.MNDMacOS = 0\n",
        "        self.MNDWindows = 0\n",
        "        self.MNDLinux = 0\n",
        "\n",
        "    @Rule(\n",
        "        Fact(answ=\"1-2\") | Fact(answ=\"2-2\") | Fact(answ=\"3-4\") | Fact(answ=\"4-3\"))\n",
        "    def __(self):\n",
        "        self.MDMacOS = self.MDMacOS + 0.2 * (1 - self.MDMacOS)\n",
        "        self.MNDWindows = self.MNDWindows + 0.2 * (1 - self.MNDWindows)\n",
        "        self.MNDLinux = self.MNDLinux + 0.2 * (1 - self.MNDLinux)\n",
        "\n",
        "    @Rule(\n",
        "        Fact(answ=\"1-1\") | Fact(answ=\"2-1\") | Fact(answ=\"3-3\") | Fact(answ=\"4-4\"))\n",
        "    def plusAndrWin(self):\n",
        "        self.MDWindows = self.MDWindows + 0.4 * (1 - self.MDWindows)\n",
        "        self.MNDLinux = self.MNDLinux + 0.1 * (1 - self.MNDLinux)\n",
        "        self.MNDMacOS = self.MNDMacOS + 0.2 * (1 - self.MNDMacOS)\n",
        "\n",
        "\n",
        "    @Rule(\n",
        "        Fact(answ=\"1-3\") | Fact(answ=\"2-3\") | Fact(answ=\"3-2\") | Fact(answ=\"4-2\"))\n",
        "    def plusAndWin2(self):\n",
        "        self.MDLinux = self.MDLinux + 0.5 * (1 - self.MDLinux)\n",
        "        self.MNDWindows = self.MNDWindows + 0.3 * (1 - self.MNDWindows)\n",
        "        self.MNDMacOS = self.MNDMacOS + 0.4 * (1 - self.MNDMacOS)\n",
        "\n",
        "\n",
        "    @Rule(\n",
        "        Fact(answ=\"1-4\") | Fact(answ=\"2-4\") | Fact(answ=\"3-1\") | Fact(answ=\"4-1\"))\n",
        "    def plusIOS(self):\n",
        "        self.MDMacOS = self.MDMacOS + 0.3 * (1 - self.MDMacOS)\n",
        "        self.MDWindows = self.MDWindows + 0.4 * (1 - self.MDWindows)\n",
        "        self.MDLinux = self.MDLinux + 0.5 * (1 - self.MDLinux)\n",
        "        self.MNDMacOS = self.MNDMacOS + 0.1 * (1 - self.MNDMacOS)\n",
        "        self.MNDWindows = self.MNDWindows + 0.1 * (1 - self.MNDWindows)\n",
        "        self.MNDLinux = self.MNDLinux + 0.3 * (1 - self.MNDLinux)\n",
        "\n",
        "\n",
        "\n",
        "    #Вспомогательные методы\n",
        "    def getKU(self):\n",
        "        return {\n",
        "            \"Windows\": self.MDWindows - self.MNDWindows,\n",
        "            \"Linux\": self.MDLinux - self.MNDLinux,\n",
        "            \"MacOS\": self.MDMacOS - self.MNDMacOS\n",
        "        }\n",
        "\n",
        "    def checkOS(self):\n",
        "        ku = self.getKU()\n",
        "        print(ku)\n",
        "        max = -1\n",
        "        key = \"\"\n",
        "        for res in ku:\n",
        "            if ku[res] > max:\n",
        "                max = ku[res]\n",
        "                key = res\n",
        "\n",
        "        return key, max"
      ],
      "execution_count": null,
      "outputs": []
    },
    {
      "cell_type": "code",
      "metadata": {
        "colab": {
          "base_uri": "https://localhost:8080/"
        },
        "id": "Lh7ko7gSQc-s",
        "outputId": "61105aa5-26ee-4a72-9a86-df43cb6f7d70"
      },
      "source": [
        "KBase = KnowledgeBase()\n",
        "KBase.reset() # Prepare the engine for the execution.\n",
        "\n",
        "for ThisKey in Questions:\n",
        "    print(Questions[ThisKey])\n",
        "    x = str(input(Answers[ThisKey]))\n",
        "    ans = str(ThisKey) + \"-\" + x\n",
        "    KBase.declare(Fact(answ=ans))\n",
        "    KBase.run()\n",
        "\n",
        "check = KBase.checkOS()\n",
        "\n",
        "print(\"Вам подходит ОС: \" + check[0])"
      ],
      "execution_count": null,
      "outputs": [
        {
          "output_type": "stream",
          "name": "stdout",
          "text": [
            "Опишите ваш стиль одежды\n",
            "\n",
            "1 - Классический. Костюмы и приглушенные цвета\n",
            "2 - Мешковатые джинсы и футболки с русунком\n",
            "3 - Вязанные вещи\n",
            "4 - Яркое и необычное\n",
            "2\n",
            "Вы когда-нибудь скачивали музыку с пиратских ресурсов?\n",
            "\n",
            "1 - Пару раз. Бывает жалко денег. Считаю это неправильным\n",
            "2 - Только так и скачиваю. Считаю это правильным\n",
            "3 - Никогда. Считаю это неправильным\n",
            "4 - Слушаю онлайн\n",
            "3\n",
            "Саморазвитие как смысл жизни: как часто ты читаешь что-то полезное, а потом применяешь полученные знания на практике?\n",
            "\n",
            "1 - Редко\n",
            "2 - Не так часто как хотелось бы\n",
            "3 - Постоянно\n",
            "4 - Чистаю, но применяю некоторые знание\n",
            "1\n",
            "Чем ты чаще всего пользуешься в своем телефоне?\n",
            "\n",
            "1 - Камера\n",
            "2 - Музыкальный плеер\n",
            "3 - Соц сети, почта\n",
            "4 - Для звонков\n",
            "4\n",
            "{'Windows': 0.14400000000000002, 'Linux': 0.254, 'MacOS': -0.12800000000000006}\n",
            "Вам подходит ОС: Linux\n"
          ]
        }
      ]
    }
  ]
}